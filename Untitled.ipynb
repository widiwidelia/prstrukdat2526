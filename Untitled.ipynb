{
 "cells": [
  {
   "cell_type": "markdown",
   "id": "f63e79c7-1945-4761-92c9-7d01bbbb762c",
   "metadata": {},
   "source": [
    "# Libraries"
   ]
  },
  {
   "cell_type": "code",
   "execution_count": 7,
   "id": "adb7ab55-e202-4d52-b385-81518d2327bd",
   "metadata": {},
   "outputs": [],
   "source": [
    "import yfinance as yf\n",
    "import pandas as pd\n",
    "import numpy as np\n",
    "import matplotlib.pyplot as plt"
   ]
  },
  {
   "cell_type": "markdown",
   "id": "fe410716-01e7-49b1-ad8c-c5af54cdb01b",
   "metadata": {},
   "source": [
    "# Fungsi"
   ]
  },
  {
   "cell_type": "code",
   "execution_count": 8,
   "id": "b0963471-8aee-49d2-9d64-69c4c6c2579f",
   "metadata": {},
   "outputs": [],
   "source": [
    "def fetch_data(tickers, start_date, end_date, auto_adjust=True):\n",
    "    data = yf.download(tickers, start=start_date, end=end_date, auto_adjust=auto_adjust)\n",
    "    return data"
   ]
  },
  {
   "cell_type": "markdown",
   "id": "c4aed3da-44f6-4d37-bc30-30c48414359d",
   "metadata": {},
   "source": [
    "# Pengambilan Data"
   ]
  },
  {
   "cell_type": "code",
   "execution_count": 9,
   "id": "66e3b579-95d8-46ca-80bb-a68527859d97",
   "metadata": {},
   "outputs": [
    {
     "name": "stderr",
     "output_type": "stream",
     "text": [
      "[*********************100%***********************]  1 of 1 completed\n"
     ]
    },
    {
     "data": {
      "text/html": [
       "<div>\n",
       "<style scoped>\n",
       "    .dataframe tbody tr th:only-of-type {\n",
       "        vertical-align: middle;\n",
       "    }\n",
       "\n",
       "    .dataframe tbody tr th {\n",
       "        vertical-align: top;\n",
       "    }\n",
       "\n",
       "    .dataframe thead tr th {\n",
       "        text-align: left;\n",
       "    }\n",
       "\n",
       "    .dataframe thead tr:last-of-type th {\n",
       "        text-align: right;\n",
       "    }\n",
       "</style>\n",
       "<table border=\"1\" class=\"dataframe\">\n",
       "  <thead>\n",
       "    <tr>\n",
       "      <th>Price</th>\n",
       "      <th>Adj Close</th>\n",
       "      <th>Close</th>\n",
       "      <th>High</th>\n",
       "      <th>Low</th>\n",
       "      <th>Open</th>\n",
       "      <th>Volume</th>\n",
       "    </tr>\n",
       "    <tr>\n",
       "      <th>Ticker</th>\n",
       "      <th>BBCA.JK</th>\n",
       "      <th>BBCA.JK</th>\n",
       "      <th>BBCA.JK</th>\n",
       "      <th>BBCA.JK</th>\n",
       "      <th>BBCA.JK</th>\n",
       "      <th>BBCA.JK</th>\n",
       "    </tr>\n",
       "    <tr>\n",
       "      <th>Date</th>\n",
       "      <th></th>\n",
       "      <th></th>\n",
       "      <th></th>\n",
       "      <th></th>\n",
       "      <th></th>\n",
       "      <th></th>\n",
       "    </tr>\n",
       "  </thead>\n",
       "  <tbody>\n",
       "    <tr>\n",
       "      <th>2016-01-04</th>\n",
       "      <td>2194.888672</td>\n",
       "      <td>2645.0</td>\n",
       "      <td>2685.0</td>\n",
       "      <td>2630.0</td>\n",
       "      <td>2635.0</td>\n",
       "      <td>77479500</td>\n",
       "    </tr>\n",
       "    <tr>\n",
       "      <th>2016-01-05</th>\n",
       "      <td>2219.783447</td>\n",
       "      <td>2675.0</td>\n",
       "      <td>2710.0</td>\n",
       "      <td>2640.0</td>\n",
       "      <td>2640.0</td>\n",
       "      <td>96609000</td>\n",
       "    </tr>\n",
       "    <tr>\n",
       "      <th>2016-01-06</th>\n",
       "      <td>2190.739258</td>\n",
       "      <td>2640.0</td>\n",
       "      <td>2700.0</td>\n",
       "      <td>2640.0</td>\n",
       "      <td>2665.0</td>\n",
       "      <td>105370000</td>\n",
       "    </tr>\n",
       "    <tr>\n",
       "      <th>2016-01-07</th>\n",
       "      <td>2157.546875</td>\n",
       "      <td>2600.0</td>\n",
       "      <td>2630.0</td>\n",
       "      <td>2600.0</td>\n",
       "      <td>2620.0</td>\n",
       "      <td>146746500</td>\n",
       "    </tr>\n",
       "    <tr>\n",
       "      <th>2016-01-08</th>\n",
       "      <td>2157.546875</td>\n",
       "      <td>2600.0</td>\n",
       "      <td>2620.0</td>\n",
       "      <td>2590.0</td>\n",
       "      <td>2590.0</td>\n",
       "      <td>125820000</td>\n",
       "    </tr>\n",
       "    <tr>\n",
       "      <th>...</th>\n",
       "      <td>...</td>\n",
       "      <td>...</td>\n",
       "      <td>...</td>\n",
       "      <td>...</td>\n",
       "      <td>...</td>\n",
       "      <td>...</td>\n",
       "    </tr>\n",
       "    <tr>\n",
       "      <th>2024-12-20</th>\n",
       "      <td>9361.940430</td>\n",
       "      <td>9650.0</td>\n",
       "      <td>9750.0</td>\n",
       "      <td>9625.0</td>\n",
       "      <td>9650.0</td>\n",
       "      <td>91576900</td>\n",
       "    </tr>\n",
       "    <tr>\n",
       "      <th>2024-12-23</th>\n",
       "      <td>9483.208984</td>\n",
       "      <td>9775.0</td>\n",
       "      <td>9850.0</td>\n",
       "      <td>9700.0</td>\n",
       "      <td>9700.0</td>\n",
       "      <td>43292100</td>\n",
       "    </tr>\n",
       "    <tr>\n",
       "      <th>2024-12-24</th>\n",
       "      <td>9458.955078</td>\n",
       "      <td>9750.0</td>\n",
       "      <td>9900.0</td>\n",
       "      <td>9750.0</td>\n",
       "      <td>9850.0</td>\n",
       "      <td>32415700</td>\n",
       "    </tr>\n",
       "    <tr>\n",
       "      <th>2024-12-27</th>\n",
       "      <td>9507.462891</td>\n",
       "      <td>9800.0</td>\n",
       "      <td>9825.0</td>\n",
       "      <td>9725.0</td>\n",
       "      <td>9800.0</td>\n",
       "      <td>24016700</td>\n",
       "    </tr>\n",
       "    <tr>\n",
       "      <th>2024-12-30</th>\n",
       "      <td>9386.194336</td>\n",
       "      <td>9675.0</td>\n",
       "      <td>9825.0</td>\n",
       "      <td>9675.0</td>\n",
       "      <td>9800.0</td>\n",
       "      <td>56350100</td>\n",
       "    </tr>\n",
       "  </tbody>\n",
       "</table>\n",
       "<p>2230 rows × 6 columns</p>\n",
       "</div>"
      ],
      "text/plain": [
       "Price         Adj Close   Close    High     Low    Open     Volume\n",
       "Ticker          BBCA.JK BBCA.JK BBCA.JK BBCA.JK BBCA.JK    BBCA.JK\n",
       "Date                                                              \n",
       "2016-01-04  2194.888672  2645.0  2685.0  2630.0  2635.0   77479500\n",
       "2016-01-05  2219.783447  2675.0  2710.0  2640.0  2640.0   96609000\n",
       "2016-01-06  2190.739258  2640.0  2700.0  2640.0  2665.0  105370000\n",
       "2016-01-07  2157.546875  2600.0  2630.0  2600.0  2620.0  146746500\n",
       "2016-01-08  2157.546875  2600.0  2620.0  2590.0  2590.0  125820000\n",
       "...                 ...     ...     ...     ...     ...        ...\n",
       "2024-12-20  9361.940430  9650.0  9750.0  9625.0  9650.0   91576900\n",
       "2024-12-23  9483.208984  9775.0  9850.0  9700.0  9700.0   43292100\n",
       "2024-12-24  9458.955078  9750.0  9900.0  9750.0  9850.0   32415700\n",
       "2024-12-27  9507.462891  9800.0  9825.0  9725.0  9800.0   24016700\n",
       "2024-12-30  9386.194336  9675.0  9825.0  9675.0  9800.0   56350100\n",
       "\n",
       "[2230 rows x 6 columns]"
      ]
     },
     "execution_count": 9,
     "metadata": {},
     "output_type": "execute_result"
    }
   ],
   "source": [
    "tickers = [\"BBCA.JK\"]\n",
    "data = fetch_data(tickers=tickers, start_date='2016-01-01', end_date='2025-01-01', auto_adjust=False)\n",
    "data"
   ]
  },
  {
   "cell_type": "markdown",
   "id": "6f38aa46-a31d-4b61-84f9-f520ccf52841",
   "metadata": {},
   "source": [
    "# Charting"
   ]
  },
  {
   "cell_type": "code",
   "execution_count": 10,
   "id": "810922aa-df82-426f-abaa-9005e7589e36",
   "metadata": {},
   "outputs": [
    {
     "data": {
      "image/png": "[encoded data removed]",
      "text/plain": [
       "<Figure size 640x480 with 1 Axes>"
      ]
     },
     "metadata": {},
     "output_type": "display_data"
    }
   ],
   "source": [
    "import matplotlib.pyplot as plt\n",
    "data['Close', 'BBCA.JK'].plot(title='BBCA.JK Closing Price')\n",
    "plt.xlabel(\"Date\")\n",
    "plt.ylabel('Close Price')\n",
    "plt.show()"
   ]
  },
  {
   "cell_type": "code",
   "execution_count": null,
   "id": "7e90343a-1bec-4c94-a411-a0c16a35c90d",
   "metadata": {},
   "outputs": [],
   "source": []
  },
  {
   "cell_type": "code",
   "execution_count": null,
   "id": "11b16156-4962-4f49-bf7f-6f672d25c586",
   "metadata": {},
   "outputs": [],
   "source": []
  }
 ],
 "metadata": {
  "kernelspec": {
   "display_name": "Python 3 (ipykernel)",
   "language": "python",
   "name": "python3"
  },
  "language_info": {
   "codemirror_mode": {
    "name": "ipython",
    "version": 3
   },
   "file_extension": ".py",
   "mimetype": "text/x-python",
   "name": "python",
   "nbconvert_exporter": "python",
   "pygments_lexer": "ipython3",
   "version": "3.12.7"
  }
 },
 "nbformat": 4,
 "nbformat_minor": 5
}
